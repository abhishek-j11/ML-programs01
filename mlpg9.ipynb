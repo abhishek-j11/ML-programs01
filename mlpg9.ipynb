{
 "cells": [
  {
   "cell_type": "code",
   "execution_count": 5,
   "id": "b74a175d",
   "metadata": {
    "scrolled": true
   },
   "outputs": [
    {
     "name": "stdout",
     "output_type": "stream",
     "text": [
      "Decision tree Classifer Rules:\n",
      " |--- Texture <= 0.50\n",
      "|   |--- class: Apple\n",
      "|--- Texture >  0.50\n",
      "|   |--- Weight <= 185.00\n",
      "|   |   |--- class: Orange\n",
      "|   |--- Weight >  185.00\n",
      "|   |   |--- class: Melon\n",
      "\n"
     ]
    },
    {
     "ename": "NameError",
     "evalue": "name 'figsize' is not defined",
     "output_type": "error",
     "traceback": [
      "\u001b[1;31m---------------------------------------------------------------------------\u001b[0m",
      "\u001b[1;31mNameError\u001b[0m                                 Traceback (most recent call last)",
      "Cell \u001b[1;32mIn[5], line 16\u001b[0m\n\u001b[0;32m     13\u001b[0m tree_rules \u001b[38;5;241m=\u001b[39mexport_text(clf, feature_names\u001b[38;5;241m=\u001b[39m[\u001b[38;5;124m'\u001b[39m\u001b[38;5;124mWeight\u001b[39m\u001b[38;5;124m'\u001b[39m, \u001b[38;5;124m'\u001b[39m\u001b[38;5;124mTexture\u001b[39m\u001b[38;5;124m'\u001b[39m]) \n\u001b[0;32m     14\u001b[0m \u001b[38;5;28mprint\u001b[39m(\u001b[38;5;124m\"\u001b[39m\u001b[38;5;124mDecision tree Classifer Rules:\u001b[39m\u001b[38;5;130;01m\\n\u001b[39;00m\u001b[38;5;124m\"\u001b[39m, tree_rules) \n\u001b[1;32m---> 16\u001b[0m plt\u001b[38;5;241m.\u001b[39mfigure(figsize(\u001b[38;5;241m10\u001b[39m, \u001b[38;5;241m6\u001b[39m)) \n\u001b[0;32m     17\u001b[0m plot_tree(cif, filled\u001b[38;5;241m=\u001b[39m\u001b[38;5;28;01mTrue\u001b[39;00m, feature_names\u001b[38;5;241m=\u001b[39m[\u001b[38;5;124m'\u001b[39m\u001b[38;5;124mWeight\u001b[39m\u001b[38;5;124m'\u001b[39m, \u001b[38;5;124m'\u001b[39m\u001b[38;5;124mTexture\u001b[39m\u001b[38;5;124m'\u001b[39m], class_names\u001b[38;5;241m=\u001b[39mnp\u001b[38;5;241m.\u001b[39munique(y))\n\u001b[0;32m     18\u001b[0m plt\u001b[38;5;241m.\u001b[39mshow()\n",
      "\u001b[1;31mNameError\u001b[0m: name 'figsize' is not defined"
     ]
    }
   ],
   "source": [
    "import numpy as np\n",
    "from sklearn.tree import DecisionTreeClassifier, plot_tree \n",
    "from sklearn.tree import export_text \n",
    "import matplotlib.pyplot as plt \n",
    " \n",
    "\n",
    "x = np.array([[150, 0], [170, 1], [120, 0], [140, 1], [200, 1], [130, 0]])\n",
    "y = np.array(['Apple', 'Orange', 'Apple', 'Orange', 'Melon', 'Apple'])\n",
    "\n",
    "clf =DecisionTreeClassifier(random_state=42) \n",
    "clf.fit(x, y) \n",
    "\n",
    "tree_rules =export_text(clf, feature_names=['Weight', 'Texture']) \n",
    "print(\"Decision tree Classifer Rules:\\n\", tree_rules) \n",
    "\n",
    "plt.figure(figsize(10, 6)) \n",
    "plot_tree(cif, filled=True, feature_names=['Weight', 'Texture'], class_names=np.unique(y))\n",
    "plt.show() "
   ]
  },
  {
   "cell_type": "code",
   "execution_count": null,
   "id": "dd4ad6ed",
   "metadata": {},
   "outputs": [],
   "source": []
  }
 ],
 "metadata": {
  "kernelspec": {
   "display_name": "Python 3 (ipykernel)",
   "language": "python",
   "name": "python3"
  },
  "language_info": {
   "codemirror_mode": {
    "name": "ipython",
    "version": 3
   },
   "file_extension": ".py",
   "mimetype": "text/x-python",
   "name": "python",
   "nbconvert_exporter": "python",
   "pygments_lexer": "ipython3",
   "version": "3.11.5"
  }
 },
 "nbformat": 4,
 "nbformat_minor": 5
}
