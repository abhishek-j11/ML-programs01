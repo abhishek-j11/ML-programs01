{
 "cells": [
  {
   "cell_type": "code",
   "execution_count": 5,
   "id": "9e315a08",
   "metadata": {},
   "outputs": [
    {
     "name": "stdout",
     "output_type": "stream",
     "text": [
      "Accuracy on the test set: 1.00\n",
      "Enter Exam Score 1: 60\n",
      "Enter Exam Score 2: 70\n",
      "Based on the exam scores provided, the student is predicted to pass.\n"
     ]
    }
   ],
   "source": [
    "import numpy as np\n",
    "from sklearn.model_selection import train_test_split\n",
    "from sklearn.neighbors import KNeighborsClassifier\n",
    "from sklearn.metrics import accuracy_score \n",
    "\n",
    "x = np.array([[80, 75], [95, 90], [60, 50], [45, 30], [30, 40], [85, 95], [70, 60], [50, 55], [40, 45], [60, 70]])\n",
    "y = np.array([1, 1, 0, 0, 0, 1, 1, 0, 0, 1])  \n",
    " \n",
    "x_train, x_test, y_train, y_test = train_test_split(x, y, test_size=0.2, random_state=42) \n",
    "knn = KNeighborsClassifier(n_neighbors=3) \n",
    "\n",
    "knn.fit(x_train, y_train) \n",
    "\n",
    "y_pred =knn.predict(x_test) \n",
    "accuracy= accuracy_score(y_test, y_pred) \n",
    "print(\"Accuracy on the test set: {:.2f}\".format(accuracy)) \n",
    "\n",
    "exam_scorel =float(input(\"Enter Exam Score 1: \")) \n",
    "exam_score2 =float(input(\"Enter Exam Score 2: \")) \n",
    "user_input = np.array([[exam_scorel, exam_score2]]) \n",
    "predicted_outcome = knn.predict(user_input) \n",
    "if predicted_outcome[0]==1:\n",
    "    print(\"Based on the exam scores provided, the student is predicted to pass.\")\n",
    "else:\n",
    "    print(\"Based on the exam scores provided, the student is predicted to fail.\")\n",
    "    \n",
    "           \n",
    "        \n"
   ]
  },
  {
   "cell_type": "code",
   "execution_count": null,
   "id": "6b3a688f",
   "metadata": {},
   "outputs": [],
   "source": []
  }
 ],
 "metadata": {
  "kernelspec": {
   "display_name": "Python 3 (ipykernel)",
   "language": "python",
   "name": "python3"
  },
  "language_info": {
   "codemirror_mode": {
    "name": "ipython",
    "version": 3
   },
   "file_extension": ".py",
   "mimetype": "text/x-python",
   "name": "python",
   "nbconvert_exporter": "python",
   "pygments_lexer": "ipython3",
   "version": "3.11.5"
  }
 },
 "nbformat": 4,
 "nbformat_minor": 5
}
