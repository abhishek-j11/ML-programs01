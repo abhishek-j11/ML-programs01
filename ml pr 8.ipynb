{
 "cells": [
  {
   "cell_type": "code",
   "execution_count": 1,
   "id": "26a66a6b",
   "metadata": {},
   "outputs": [
    {
     "name": "stdout",
     "output_type": "stream",
     "text": [
      "enter the size of the hours in sqrft:1200\n",
      "enter the number of bedrooms:3\n",
      "predicted price for a house with size1200.0 sqft and 3bedrooms:rs.376852.46\n"
     ]
    }
   ],
   "source": [
    "import numpy as np\n",
    "from sklearn.linear_model import LinearRegression\n",
    "\n",
    "x=np.array([[1000,2],[1500,3],[1200,2],[1800,4],[900,2],[2000,3]])\n",
    "y=np.array([300000,400000,350000,500000,280000,450000])\n",
    "\n",
    "model=LinearRegression()\n",
    "model.fit(x,y)\n",
    "\n",
    "size = float(input(\"enter the size of the hours in sqrft:\"))\n",
    "bedrooms = int(input(\"enter the number of bedrooms:\"))\n",
    "new_data = np.array([[size,bedrooms]])\n",
    "\n",
    "predicted_price = model.predict(new_data)\n",
    "\n",
    "print(\"predicted price for a house with size{} sqft and {}bedrooms:rs.{:.2f}\".format(size,bedrooms,predicted_price[0]))"
   ]
  },
  {
   "cell_type": "code",
   "execution_count": null,
   "id": "fdc4d299",
   "metadata": {},
   "outputs": [],
   "source": []
  },
  {
   "cell_type": "code",
   "execution_count": null,
   "id": "5d0ee57d",
   "metadata": {},
   "outputs": [],
   "source": []
  }
 ],
 "metadata": {
  "kernelspec": {
   "display_name": "Python 3 (ipykernel)",
   "language": "python",
   "name": "python3"
  },
  "language_info": {
   "codemirror_mode": {
    "name": "ipython",
    "version": 3
   },
   "file_extension": ".py",
   "mimetype": "text/x-python",
   "name": "python",
   "nbconvert_exporter": "python",
   "pygments_lexer": "ipython3",
   "version": "3.11.5"
  }
 },
 "nbformat": 4,
 "nbformat_minor": 5
}
