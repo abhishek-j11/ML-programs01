{
 "cells": [
  {
   "cell_type": "code",
   "execution_count": 10,
   "id": "b4f0019d",
   "metadata": {},
   "outputs": [
    {
     "ename": "SyntaxError",
     "evalue": "invalid syntax. Perhaps you forgot a comma? (3326592031.py, line 20)",
     "output_type": "error",
     "traceback": [
      "\u001b[1;36m  Cell \u001b[1;32mIn[10], line 20\u001b[1;36m\u001b[0m\n\u001b[1;33m    encoded_df = pd.DataFrame(encoded_data, columns=encoder.get_feature_names_\u001b[0m\n\u001b[1;37m                                                    ^\u001b[0m\n\u001b[1;31mSyntaxError\u001b[0m\u001b[1;31m:\u001b[0m invalid syntax. Perhaps you forgot a comma?\n"
     ]
    }
   ],
   "source": [
    "import pandas as pd\n",
    "from sklearn.impute import SimpleImputer \n",
    "from sklearn.preprocessing import OneHotEncoder, StandardScaler \n",
    "\n",
    "data = {\n",
    "    'Age': [25, 38, None, 28, 35],\n",
    "    'Gender': ['Female', 'Male', 'Male', 'Female', 'Male'] ,\n",
    "    'Income': [150000, 60000, 45000, None, 70000]\n",
    "}\n",
    "df = pd. DataFrame (data) \n",
    "imputer = SimpleImputer(strategy='mean') \n",
    "df[['Age', 'Income']] = imputer.fit_transform(df[['Age', 'Income']]) \n",
    "\n",
    "print(\"Data after handling missing values:\") \n",
    "print(df) \n",
    "\n",
    "encoder = OneHotEncoder() \n",
    "encoded_data = encoder.fit_transform(df[['Gender']]).toarray() \n",
    "\n",
    "encoded_df = pd.DataFrame(encoded_data, columns = encoder.get_feature_names_\n",
    "out(['Gender']))\n",
    "print(\"\\nData after categorical encoding:\") \n",
    "print(encoded_df) \n",
    "                          \n",
    "scaler = StandardScaler()\n",
    "scaled_data = scaler.fit_transform(df[['Age', 'Income']]) \n",
    "\n",
    "scaled_df = pd.DataFrame(scaled_data, columns=['Scaled Age', 'Scaled Income'])\n",
    "print(\"\\nData after feature scaling:\") \n",
    "print(scaled_df) "
   ]
  },
  {
   "cell_type": "code",
   "execution_count": null,
   "id": "ee16e1c0",
   "metadata": {},
   "outputs": [],
   "source": []
  }
 ],
 "metadata": {
  "kernelspec": {
   "display_name": "Python 3 (ipykernel)",
   "language": "python",
   "name": "python3"
  },
  "language_info": {
   "codemirror_mode": {
    "name": "ipython",
    "version": 3
   },
   "file_extension": ".py",
   "mimetype": "text/x-python",
   "name": "python",
   "nbconvert_exporter": "python",
   "pygments_lexer": "ipython3",
   "version": "3.11.5"
  }
 },
 "nbformat": 4,
 "nbformat_minor": 5
}
