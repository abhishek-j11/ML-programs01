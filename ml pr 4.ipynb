{
 "cells": [
  {
   "cell_type": "code",
   "execution_count": 5,
   "id": "7e7db222",
   "metadata": {},
   "outputs": [
    {
     "name": "stdout",
     "output_type": "stream",
     "text": [
      "CSV File Data:\n",
      "   SL NO              CARS  MILLEGE   PRICES\n",
      "0      1           celerio       27   300000\n",
      "1      2            Baleno       30   400000\n",
      "2      3  mahindra XUV 3XO       22  1200000\n",
      "3      4          alto 800       20   200000\n",
      "4      5            santro       25   600000\n",
      "5      6             dzire       26   800000\n",
      "6      7         kia sonet       29  1300000\n",
      "7      8      renault kwid       30  1500000\n",
      "\n",
      "Excel File Data:\n",
      "   SL NO              CARS  MILLEGE   PRICES\n",
      "0      1           celerio       27   300000\n",
      "1      2            Baleno       30   400000\n",
      "2      3  mahindra XUV 3XO       22  1200000\n",
      "3      4          alto 800       20   200000\n",
      "4      5            santro       25   600000\n",
      "5      6             dzire       26   800000\n",
      "6      7         kia sonet       29  1300000\n",
      "7      8      renault kwid       30  1500000\n",
      "\n",
      "Data Descriptions:\n",
      "CSV Data Description:\n",
      "         SL NO    MILLEGE        PRICES\n",
      "count  8.00000   8.000000  8.000000e+00\n",
      "mean   4.50000  26.125000  7.875000e+05\n",
      "std    2.44949   3.681518  4.940720e+05\n",
      "min    1.00000  20.000000  2.000000e+05\n",
      "25%    2.75000  24.250000  3.750000e+05\n",
      "50%    4.50000  26.500000  7.000000e+05\n",
      "75%    6.25000  29.250000  1.225000e+06\n",
      "max    8.00000  30.000000  1.500000e+06\n",
      "excel Data Description:\n",
      "         SL NO    MILLEGE        PRICES\n",
      "count  8.00000   8.000000  8.000000e+00\n",
      "mean   4.50000  26.125000  7.875000e+05\n",
      "std    2.44949   3.681518  4.940720e+05\n",
      "min    1.00000  20.000000  2.000000e+05\n",
      "25%    2.75000  24.250000  3.750000e+05\n",
      "50%    4.50000  26.500000  7.000000e+05\n",
      "75%    6.25000  29.250000  1.225000e+06\n",
      "max    8.00000  30.000000  1.500000e+06\n",
      "\n",
      "Data Types in csv File:\n",
      "SL NO       int64\n",
      "CARS       object\n",
      "MILLEGE     int64\n",
      "PRICES      int64\n",
      "dtype: object\n",
      "\n",
      "Data Types in Excel File:\n",
      "SL NO       int64\n",
      "CARS       object\n",
      "MILLEGE     int64\n",
      "PRICES      int64\n",
      "dtype: object\n"
     ]
    }
   ],
   "source": [
    "import pandas as pd\n",
    "csv_file_path = 'C:\\\\Users\\\\NRI\\\\Documents\\\\car data set.csv'\n",
    "excel_file_path ='C:\\\\Users\\\\NRI\\\\Documents\\\\car data set.xlsx'\n",
    " \n",
    "data_csv = pd.read_csv(csv_file_path )\n",
    "print(\"CSV File Data:\")\n",
    "print(data_csv)\n",
    "\n",
    "data_excel = pd.read_excel(excel_file_path)\n",
    "print(\"\\nExcel File Data:\")\n",
    "print(data_excel)\n",
    "\n",
    "print(\"\\nData Descriptions:\")\n",
    "print(\"CSV Data Description:\")\n",
    "print(data_csv.describe())\n",
    "\n",
    "print(\"excel Data Description:\")\n",
    "print(data_excel.describe())\n",
    "\n",
    "\n",
    "print(\"\\nData Types in csv File:\")\n",
    "print(data_csv.dtypes)\n",
    "\n",
    "print(\"\\nData Types in Excel File:\")\n",
    "print(data_excel.dtypes)"
   ]
  },
  {
   "cell_type": "code",
   "execution_count": null,
   "id": "c9f16e94",
   "metadata": {},
   "outputs": [],
   "source": []
  },
  {
   "cell_type": "code",
   "execution_count": null,
   "id": "f74ac7f2",
   "metadata": {},
   "outputs": [],
   "source": []
  }
 ],
 "metadata": {
  "kernelspec": {
   "display_name": "Python 3 (ipykernel)",
   "language": "python",
   "name": "python3"
  },
  "language_info": {
   "codemirror_mode": {
    "name": "ipython",
    "version": 3
   },
   "file_extension": ".py",
   "mimetype": "text/x-python",
   "name": "python",
   "nbconvert_exporter": "python",
   "pygments_lexer": "ipython3",
   "version": "3.11.5"
  }
 },
 "nbformat": 4,
 "nbformat_minor": 5
}
